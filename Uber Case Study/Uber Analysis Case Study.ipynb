{
 "cells": [
  {
   "cell_type": "code",
   "execution_count": 1,
   "metadata": {},
   "outputs": [],
   "source": [
    "import pandas as pd"
   ]
  },
  {
   "cell_type": "code",
   "execution_count": 2,
   "metadata": {},
   "outputs": [],
   "source": [
    "df=pd.read_csv(\"Uber Request Data.csv\") # parse_dates=['Request timestamp', 'Drop timestamp']"
   ]
  },
  {
   "cell_type": "code",
   "execution_count": 3,
   "metadata": {},
   "outputs": [
    {
     "data": {
      "text/html": [
       "<div>\n",
       "<style scoped>\n",
       "    .dataframe tbody tr th:only-of-type {\n",
       "        vertical-align: middle;\n",
       "    }\n",
       "\n",
       "    .dataframe tbody tr th {\n",
       "        vertical-align: top;\n",
       "    }\n",
       "\n",
       "    .dataframe thead th {\n",
       "        text-align: right;\n",
       "    }\n",
       "</style>\n",
       "<table border=\"1\" class=\"dataframe\">\n",
       "  <thead>\n",
       "    <tr style=\"text-align: right;\">\n",
       "      <th></th>\n",
       "      <th>Request id</th>\n",
       "      <th>Pickup point</th>\n",
       "      <th>Driver id</th>\n",
       "      <th>Status</th>\n",
       "      <th>Request timestamp</th>\n",
       "      <th>Drop timestamp</th>\n",
       "    </tr>\n",
       "  </thead>\n",
       "  <tbody>\n",
       "    <tr>\n",
       "      <th>0</th>\n",
       "      <td>619</td>\n",
       "      <td>Airport</td>\n",
       "      <td>1.0</td>\n",
       "      <td>Trip Completed</td>\n",
       "      <td>11/7/2016 11:51</td>\n",
       "      <td>11/7/2016 13:00</td>\n",
       "    </tr>\n",
       "    <tr>\n",
       "      <th>1</th>\n",
       "      <td>867</td>\n",
       "      <td>Airport</td>\n",
       "      <td>1.0</td>\n",
       "      <td>Trip Completed</td>\n",
       "      <td>11/7/2016 17:57</td>\n",
       "      <td>11/7/2016 18:47</td>\n",
       "    </tr>\n",
       "    <tr>\n",
       "      <th>2</th>\n",
       "      <td>1807</td>\n",
       "      <td>City</td>\n",
       "      <td>1.0</td>\n",
       "      <td>Trip Completed</td>\n",
       "      <td>12/7/2016 9:17</td>\n",
       "      <td>12/7/2016 9:58</td>\n",
       "    </tr>\n",
       "    <tr>\n",
       "      <th>3</th>\n",
       "      <td>2532</td>\n",
       "      <td>Airport</td>\n",
       "      <td>1.0</td>\n",
       "      <td>Trip Completed</td>\n",
       "      <td>12/7/2016 21:08</td>\n",
       "      <td>12/7/2016 22:03</td>\n",
       "    </tr>\n",
       "    <tr>\n",
       "      <th>4</th>\n",
       "      <td>3112</td>\n",
       "      <td>City</td>\n",
       "      <td>1.0</td>\n",
       "      <td>Trip Completed</td>\n",
       "      <td>13-07-2016 08:33:16</td>\n",
       "      <td>13-07-2016 09:25:47</td>\n",
       "    </tr>\n",
       "  </tbody>\n",
       "</table>\n",
       "</div>"
      ],
      "text/plain": [
       "   Request id Pickup point  Driver id          Status    Request timestamp  \\\n",
       "0         619      Airport        1.0  Trip Completed      11/7/2016 11:51   \n",
       "1         867      Airport        1.0  Trip Completed      11/7/2016 17:57   \n",
       "2        1807         City        1.0  Trip Completed       12/7/2016 9:17   \n",
       "3        2532      Airport        1.0  Trip Completed      12/7/2016 21:08   \n",
       "4        3112         City        1.0  Trip Completed  13-07-2016 08:33:16   \n",
       "\n",
       "        Drop timestamp  \n",
       "0      11/7/2016 13:00  \n",
       "1      11/7/2016 18:47  \n",
       "2       12/7/2016 9:58  \n",
       "3      12/7/2016 22:03  \n",
       "4  13-07-2016 09:25:47  "
      ]
     },
     "execution_count": 3,
     "metadata": {},
     "output_type": "execute_result"
    }
   ],
   "source": [
    "df.head()"
   ]
  },
  {
   "cell_type": "code",
   "execution_count": 5,
   "metadata": {},
   "outputs": [
    {
     "data": {
      "text/plain": [
       "True"
      ]
     },
     "execution_count": 5,
     "metadata": {},
     "output_type": "execute_result"
    }
   ],
   "source": [
    "len(df[\"Request id\"].unique()) == df.shape[0] # to check whether the \"Request id\" has all unique values or not"
   ]
  },
  {
   "cell_type": "code",
   "execution_count": 6,
   "metadata": {},
   "outputs": [
    {
     "data": {
      "text/plain": [
       "(6745, 6)"
      ]
     },
     "execution_count": 6,
     "metadata": {},
     "output_type": "execute_result"
    }
   ],
   "source": [
    "df.shape"
   ]
  },
  {
   "cell_type": "code",
   "execution_count": 7,
   "metadata": {},
   "outputs": [
    {
     "data": {
      "text/plain": [
       "Request id              0\n",
       "Pickup point            0\n",
       "Driver id            2650\n",
       "Status                  0\n",
       "Request timestamp       0\n",
       "Drop timestamp       3914\n",
       "dtype: int64"
      ]
     },
     "execution_count": 7,
     "metadata": {},
     "output_type": "execute_result"
    }
   ],
   "source": [
    "df.isnull().sum()"
   ]
  },
  {
   "cell_type": "code",
   "execution_count": 8,
   "metadata": {
    "scrolled": true
   },
   "outputs": [
    {
     "data": {
      "text/plain": [
       "Request id            0.000000\n",
       "Pickup point          0.000000\n",
       "Driver id            39.288362\n",
       "Status                0.000000\n",
       "Request timestamp     0.000000\n",
       "Drop timestamp       58.028169\n",
       "dtype: float64"
      ]
     },
     "execution_count": 8,
     "metadata": {},
     "output_type": "execute_result"
    }
   ],
   "source": [
    "# % of null values\n",
    "df.isnull().sum()/df.shape[0]*100"
   ]
  },
  {
   "cell_type": "code",
   "execution_count": 9,
   "metadata": {},
   "outputs": [
    {
     "name": "stdout",
     "output_type": "stream",
     "text": [
      "<class 'pandas.core.frame.DataFrame'>\n",
      "RangeIndex: 6745 entries, 0 to 6744\n",
      "Data columns (total 6 columns):\n",
      " #   Column             Non-Null Count  Dtype  \n",
      "---  ------             --------------  -----  \n",
      " 0   Request id         6745 non-null   int64  \n",
      " 1   Pickup point       6745 non-null   object \n",
      " 2   Driver id          4095 non-null   float64\n",
      " 3   Status             6745 non-null   object \n",
      " 4   Request timestamp  6745 non-null   object \n",
      " 5   Drop timestamp     2831 non-null   object \n",
      "dtypes: float64(1), int64(1), object(4)\n",
      "memory usage: 316.3+ KB\n"
     ]
    }
   ],
   "source": [
    "df.info() # Driver id and Drop timestamo has null values"
   ]
  },
  {
   "cell_type": "code",
   "execution_count": 10,
   "metadata": {},
   "outputs": [
    {
     "data": {
      "text/plain": [
       "11/7/2016 19:02        6\n",
       "11/7/2016 17:57        6\n",
       "11/7/2016 8:37         6\n",
       "11/7/2016 9:40         6\n",
       "11/7/2016 21:38        5\n",
       "                      ..\n",
       "12/7/2016 19:38        1\n",
       "15-07-2016 19:24:14    1\n",
       "15-07-2016 07:57:58    1\n",
       "15-07-2016 08:06:06    1\n",
       "13-07-2016 22:57:04    1\n",
       "Name: Request timestamp, Length: 5618, dtype: int64"
      ]
     },
     "execution_count": 10,
     "metadata": {},
     "output_type": "execute_result"
    }
   ],
   "source": [
    "df[\"Request timestamp\"].value_counts() "
   ]
  },
  {
   "cell_type": "code",
   "execution_count": 11,
   "metadata": {},
   "outputs": [],
   "source": [
    "df[\"Request timestamp\"]=df[\"Request timestamp\"].astype(str) # chanding the column data type to string"
   ]
  },
  {
   "cell_type": "code",
   "execution_count": 12,
   "metadata": {},
   "outputs": [
    {
     "data": {
      "text/plain": [
       "dtype('O')"
      ]
     },
     "execution_count": 12,
     "metadata": {},
     "output_type": "execute_result"
    }
   ],
   "source": [
    "df[\"Request timestamp\"].dtype # 'O' means Object ie the collection of string"
   ]
  },
  {
   "cell_type": "code",
   "execution_count": 13,
   "metadata": {},
   "outputs": [],
   "source": [
    "df[\"Request timestamp\"]=df[\"Request timestamp\"].replace(\"/\",\"-\")"
   ]
  },
  {
   "cell_type": "code",
   "execution_count": 14,
   "metadata": {},
   "outputs": [],
   "source": [
    "df[\"Request timestamp\"]=pd.to_datetime(df[\"Request timestamp\"],dayfirst=True) \n",
    "#'dayfirst' means day will come before month in date format"
   ]
  },
  {
   "cell_type": "code",
   "execution_count": 15,
   "metadata": {},
   "outputs": [
    {
     "data": {
      "text/plain": [
       "0      2016-07-11 11:51:00\n",
       "1      2016-07-11 17:57:00\n",
       "2      2016-07-12 09:17:00\n",
       "3      2016-07-12 21:08:00\n",
       "4      2016-07-13 08:33:16\n",
       "               ...        \n",
       "6740   2016-07-15 23:49:03\n",
       "6741   2016-07-15 23:50:05\n",
       "6742   2016-07-15 23:52:06\n",
       "6743   2016-07-15 23:54:39\n",
       "6744   2016-07-15 23:55:03\n",
       "Name: Request timestamp, Length: 6745, dtype: datetime64[ns]"
      ]
     },
     "execution_count": 15,
     "metadata": {},
     "output_type": "execute_result"
    }
   ],
   "source": [
    "df[\"Request timestamp\"]"
   ]
  },
  {
   "cell_type": "code",
   "execution_count": 16,
   "metadata": {},
   "outputs": [
    {
     "data": {
      "text/plain": [
       "0        11/7/2016 13:00\n",
       "1        11/7/2016 18:47\n",
       "2         12/7/2016 9:58\n",
       "3        12/7/2016 22:03\n",
       "4    13-07-2016 09:25:47\n",
       "Name: Drop timestamp, dtype: object"
      ]
     },
     "execution_count": 16,
     "metadata": {},
     "output_type": "execute_result"
    }
   ],
   "source": [
    "df[\"Drop timestamp\"].head()"
   ]
  },
  {
   "cell_type": "code",
   "execution_count": 17,
   "metadata": {},
   "outputs": [
    {
     "data": {
      "text/plain": [
       "0      2016-07-11 13:00:00\n",
       "1      2016-07-11 18:47:00\n",
       "2      2016-07-12 09:58:00\n",
       "3      2016-07-12 22:03:00\n",
       "4      2016-07-13 09:25:47\n",
       "               ...        \n",
       "6740                   NaT\n",
       "6741                   NaT\n",
       "6742                   NaT\n",
       "6743                   NaT\n",
       "6744                   NaT\n",
       "Name: Drop timestamp, Length: 6745, dtype: datetime64[ns]"
      ]
     },
     "execution_count": 17,
     "metadata": {},
     "output_type": "execute_result"
    }
   ],
   "source": [
    "df[\"Drop timestamp\"]=pd.to_datetime(df[\"Drop timestamp\"],dayfirst=True)\n",
    "df[\"Drop timestamp\"]"
   ]
  },
  {
   "cell_type": "code",
   "execution_count": 18,
   "metadata": {},
   "outputs": [
    {
     "name": "stdout",
     "output_type": "stream",
     "text": [
      "<class 'pandas.core.frame.DataFrame'>\n",
      "RangeIndex: 6745 entries, 0 to 6744\n",
      "Data columns (total 6 columns):\n",
      " #   Column             Non-Null Count  Dtype         \n",
      "---  ------             --------------  -----         \n",
      " 0   Request id         6745 non-null   int64         \n",
      " 1   Pickup point       6745 non-null   object        \n",
      " 2   Driver id          4095 non-null   float64       \n",
      " 3   Status             6745 non-null   object        \n",
      " 4   Request timestamp  6745 non-null   datetime64[ns]\n",
      " 5   Drop timestamp     2831 non-null   datetime64[ns]\n",
      "dtypes: datetime64[ns](2), float64(1), int64(1), object(2)\n",
      "memory usage: 316.3+ KB\n"
     ]
    }
   ],
   "source": [
    "df.info()"
   ]
  },
  {
   "cell_type": "code",
   "execution_count": 20,
   "metadata": {},
   "outputs": [],
   "source": [
    "request_hour=df[\"Request timestamp\"].dt.hour\n",
    "# request_hour is the hour of the day during which the client has made the cab request"
   ]
  },
  {
   "cell_type": "code",
   "execution_count": 22,
   "metadata": {},
   "outputs": [
    {
     "data": {
      "text/plain": [
       "6745"
      ]
     },
     "execution_count": 22,
     "metadata": {},
     "output_type": "execute_result"
    }
   ],
   "source": [
    "len(request_hour)"
   ]
  },
  {
   "cell_type": "code",
   "execution_count": 23,
   "metadata": {},
   "outputs": [],
   "source": [
    "df[\"request_hour\"]=request_hour"
   ]
  },
  {
   "cell_type": "code",
   "execution_count": 24,
   "metadata": {},
   "outputs": [],
   "source": [
    "request_day=df[\"Request timestamp\"].dt.day"
   ]
  },
  {
   "cell_type": "code",
   "execution_count": 26,
   "metadata": {},
   "outputs": [],
   "source": [
    "df[\"request_day\"]=request_day"
   ]
  },
  {
   "cell_type": "code",
   "execution_count": 27,
   "metadata": {},
   "outputs": [
    {
     "data": {
      "text/html": [
       "<div>\n",
       "<style scoped>\n",
       "    .dataframe tbody tr th:only-of-type {\n",
       "        vertical-align: middle;\n",
       "    }\n",
       "\n",
       "    .dataframe tbody tr th {\n",
       "        vertical-align: top;\n",
       "    }\n",
       "\n",
       "    .dataframe thead th {\n",
       "        text-align: right;\n",
       "    }\n",
       "</style>\n",
       "<table border=\"1\" class=\"dataframe\">\n",
       "  <thead>\n",
       "    <tr style=\"text-align: right;\">\n",
       "      <th></th>\n",
       "      <th>Request id</th>\n",
       "      <th>Pickup point</th>\n",
       "      <th>Driver id</th>\n",
       "      <th>Status</th>\n",
       "      <th>Request timestamp</th>\n",
       "      <th>Drop timestamp</th>\n",
       "      <th>request_hour</th>\n",
       "      <th>request_day</th>\n",
       "    </tr>\n",
       "  </thead>\n",
       "  <tbody>\n",
       "    <tr>\n",
       "      <th>0</th>\n",
       "      <td>619</td>\n",
       "      <td>Airport</td>\n",
       "      <td>1.0</td>\n",
       "      <td>Trip Completed</td>\n",
       "      <td>2016-07-11 11:51:00</td>\n",
       "      <td>2016-07-11 13:00:00</td>\n",
       "      <td>11</td>\n",
       "      <td>11</td>\n",
       "    </tr>\n",
       "    <tr>\n",
       "      <th>1</th>\n",
       "      <td>867</td>\n",
       "      <td>Airport</td>\n",
       "      <td>1.0</td>\n",
       "      <td>Trip Completed</td>\n",
       "      <td>2016-07-11 17:57:00</td>\n",
       "      <td>2016-07-11 18:47:00</td>\n",
       "      <td>17</td>\n",
       "      <td>11</td>\n",
       "    </tr>\n",
       "    <tr>\n",
       "      <th>2</th>\n",
       "      <td>1807</td>\n",
       "      <td>City</td>\n",
       "      <td>1.0</td>\n",
       "      <td>Trip Completed</td>\n",
       "      <td>2016-07-12 09:17:00</td>\n",
       "      <td>2016-07-12 09:58:00</td>\n",
       "      <td>9</td>\n",
       "      <td>12</td>\n",
       "    </tr>\n",
       "    <tr>\n",
       "      <th>3</th>\n",
       "      <td>2532</td>\n",
       "      <td>Airport</td>\n",
       "      <td>1.0</td>\n",
       "      <td>Trip Completed</td>\n",
       "      <td>2016-07-12 21:08:00</td>\n",
       "      <td>2016-07-12 22:03:00</td>\n",
       "      <td>21</td>\n",
       "      <td>12</td>\n",
       "    </tr>\n",
       "    <tr>\n",
       "      <th>4</th>\n",
       "      <td>3112</td>\n",
       "      <td>City</td>\n",
       "      <td>1.0</td>\n",
       "      <td>Trip Completed</td>\n",
       "      <td>2016-07-13 08:33:16</td>\n",
       "      <td>2016-07-13 09:25:47</td>\n",
       "      <td>8</td>\n",
       "      <td>13</td>\n",
       "    </tr>\n",
       "    <tr>\n",
       "      <th>...</th>\n",
       "      <td>...</td>\n",
       "      <td>...</td>\n",
       "      <td>...</td>\n",
       "      <td>...</td>\n",
       "      <td>...</td>\n",
       "      <td>...</td>\n",
       "      <td>...</td>\n",
       "      <td>...</td>\n",
       "    </tr>\n",
       "    <tr>\n",
       "      <th>6740</th>\n",
       "      <td>6745</td>\n",
       "      <td>City</td>\n",
       "      <td>NaN</td>\n",
       "      <td>No Cars Available</td>\n",
       "      <td>2016-07-15 23:49:03</td>\n",
       "      <td>NaT</td>\n",
       "      <td>23</td>\n",
       "      <td>15</td>\n",
       "    </tr>\n",
       "    <tr>\n",
       "      <th>6741</th>\n",
       "      <td>6752</td>\n",
       "      <td>Airport</td>\n",
       "      <td>NaN</td>\n",
       "      <td>No Cars Available</td>\n",
       "      <td>2016-07-15 23:50:05</td>\n",
       "      <td>NaT</td>\n",
       "      <td>23</td>\n",
       "      <td>15</td>\n",
       "    </tr>\n",
       "    <tr>\n",
       "      <th>6742</th>\n",
       "      <td>6751</td>\n",
       "      <td>City</td>\n",
       "      <td>NaN</td>\n",
       "      <td>No Cars Available</td>\n",
       "      <td>2016-07-15 23:52:06</td>\n",
       "      <td>NaT</td>\n",
       "      <td>23</td>\n",
       "      <td>15</td>\n",
       "    </tr>\n",
       "    <tr>\n",
       "      <th>6743</th>\n",
       "      <td>6754</td>\n",
       "      <td>City</td>\n",
       "      <td>NaN</td>\n",
       "      <td>No Cars Available</td>\n",
       "      <td>2016-07-15 23:54:39</td>\n",
       "      <td>NaT</td>\n",
       "      <td>23</td>\n",
       "      <td>15</td>\n",
       "    </tr>\n",
       "    <tr>\n",
       "      <th>6744</th>\n",
       "      <td>6753</td>\n",
       "      <td>Airport</td>\n",
       "      <td>NaN</td>\n",
       "      <td>No Cars Available</td>\n",
       "      <td>2016-07-15 23:55:03</td>\n",
       "      <td>NaT</td>\n",
       "      <td>23</td>\n",
       "      <td>15</td>\n",
       "    </tr>\n",
       "  </tbody>\n",
       "</table>\n",
       "<p>6745 rows × 8 columns</p>\n",
       "</div>"
      ],
      "text/plain": [
       "      Request id Pickup point  Driver id             Status  \\\n",
       "0            619      Airport        1.0     Trip Completed   \n",
       "1            867      Airport        1.0     Trip Completed   \n",
       "2           1807         City        1.0     Trip Completed   \n",
       "3           2532      Airport        1.0     Trip Completed   \n",
       "4           3112         City        1.0     Trip Completed   \n",
       "...          ...          ...        ...                ...   \n",
       "6740        6745         City        NaN  No Cars Available   \n",
       "6741        6752      Airport        NaN  No Cars Available   \n",
       "6742        6751         City        NaN  No Cars Available   \n",
       "6743        6754         City        NaN  No Cars Available   \n",
       "6744        6753      Airport        NaN  No Cars Available   \n",
       "\n",
       "       Request timestamp      Drop timestamp  request_hour  request_day  \n",
       "0    2016-07-11 11:51:00 2016-07-11 13:00:00            11           11  \n",
       "1    2016-07-11 17:57:00 2016-07-11 18:47:00            17           11  \n",
       "2    2016-07-12 09:17:00 2016-07-12 09:58:00             9           12  \n",
       "3    2016-07-12 21:08:00 2016-07-12 22:03:00            21           12  \n",
       "4    2016-07-13 08:33:16 2016-07-13 09:25:47             8           13  \n",
       "...                  ...                 ...           ...          ...  \n",
       "6740 2016-07-15 23:49:03                 NaT            23           15  \n",
       "6741 2016-07-15 23:50:05                 NaT            23           15  \n",
       "6742 2016-07-15 23:52:06                 NaT            23           15  \n",
       "6743 2016-07-15 23:54:39                 NaT            23           15  \n",
       "6744 2016-07-15 23:55:03                 NaT            23           15  \n",
       "\n",
       "[6745 rows x 8 columns]"
      ]
     },
     "execution_count": 27,
     "metadata": {},
     "output_type": "execute_result"
    }
   ],
   "source": [
    "df"
   ]
  },
  {
   "cell_type": "code",
   "execution_count": 28,
   "metadata": {},
   "outputs": [],
   "source": [
    "import  seaborn as sns"
   ]
  },
  {
   "cell_type": "code",
   "execution_count": 29,
   "metadata": {},
   "outputs": [],
   "source": [
    "import matplotlib.pyplot as plt"
   ]
  },
  {
   "cell_type": "code",
   "execution_count": 30,
   "metadata": {},
   "outputs": [
    {
     "data": {
      "image/png": "[encoded data removed]",
      "text/plain": [
       "<Figure size 432x288 with 1 Axes>"
      ]
     },
     "metadata": {
      "needs_background": "light"
     },
     "output_type": "display_data"
    }
   ],
   "source": [
    "sns.countplot(x=\"request_hour\",data=df,hue=\"Status\")\n",
    "plt.show()"
   ]
  },
  {
   "cell_type": "code",
   "execution_count": 39,
   "metadata": {},
   "outputs": [
    {
     "name": "stderr",
     "output_type": "stream",
     "text": [
      "C:\\Users\\om\\anaconda3\\envs\\machine_learning_updated\\lib\\site-packages\\seaborn\\categorical.py:3666: UserWarning: The `factorplot` function has been renamed to `catplot`. The original name will be removed in a future release. Please update your code. Note that the default `kind` in `factorplot` (`'point'`) has changed `'strip'` in `catplot`.\n",
      "  warnings.warn(msg)\n"
     ]
    },
    {
     "data": {
      "image/png": "[encoded data removed]",
      "text/plain": [
       "<Figure size 483.5x1800 with 5 Axes>"
      ]
     },
     "metadata": {
      "needs_background": "light"
     },
     "output_type": "display_data"
    }
   ],
   "source": [
    "sns.factorplot(x=\"request_hour\",data=df,row=\"request_day\",hue=\"Status\",kind=\"count\")\n",
    "plt.show()"
   ]
  },
  {
   "cell_type": "code",
   "execution_count": 42,
   "metadata": {},
   "outputs": [
    {
     "data": {
      "image/png": "[encoded data removed]",
      "text/plain": [
       "<Figure size 430.125x1800 with 5 Axes>"
      ]
     },
     "metadata": {
      "needs_background": "light"
     },
     "output_type": "display_data"
    }
   ],
   "source": [
    "sns.factorplot(x=\"request_hour\",data=df,row=\"request_day\",hue=\"Pickup point\",kind=\"count\")\n",
    "plt.show()"
   ]
  },
  {
   "cell_type": "code",
   "execution_count": 41,
   "metadata": {},
   "outputs": [
    {
     "data": {
      "image/png": "[encoded data removed]",
      "text/plain": [
       "<Figure size 430.125x360 with 1 Axes>"
      ]
     },
     "metadata": {
      "needs_background": "light"
     },
     "output_type": "display_data"
    }
   ],
   "source": [
    "sns.factorplot(x=\"request_hour\",data=df,hue=\"Pickup point\",kind=\"count\")\n",
    "plt.show()"
   ]
  },
  {
   "cell_type": "raw",
   "metadata": {},
   "source": [
    "### time slot parameters\n",
    "\n",
    "<5           \"Pre_morning\"\n",
    "5<=x<10      \"Morning Rush\"\n",
    "10<=x<17     'Day_time'\n",
    "17<=x<22     \"Evening rush\"\n",
    "else         \"Late night\""
   ]
  },
  {
   "cell_type": "code",
   "execution_count": 77,
   "metadata": {},
   "outputs": [],
   "source": [
    "j=0\n",
    "for i in df[\"request_hour\"]:\n",
    "    if df.iloc[j,6]<5:\n",
    "        df.iloc[j,8]=\"Pre_Morning\"\n",
    "    elif 5<=df.iloc[j,6]<10:\n",
    "        df.iloc[j,8]=\"Morning_Rush\"\n",
    "        \n",
    "    elif 10<=df.iloc[j,6]<17:\n",
    "        df.iloc[j,8]=\"Day_Time\"\n",
    "        \n",
    "    elif 17<=df.iloc[j,6]<22:\n",
    "        df.iloc[j,8]=\"Evening_Rush\"\n",
    "    else:\n",
    "        df.iloc[j,8]=\"Late_Night\"\n",
    "    j=j+1"
   ]
  },
  {
   "cell_type": "code",
   "execution_count": 78,
   "metadata": {},
   "outputs": [
    {
     "data": {
      "text/html": [
       "<div>\n",
       "<style scoped>\n",
       "    .dataframe tbody tr th:only-of-type {\n",
       "        vertical-align: middle;\n",
       "    }\n",
       "\n",
       "    .dataframe tbody tr th {\n",
       "        vertical-align: top;\n",
       "    }\n",
       "\n",
       "    .dataframe thead th {\n",
       "        text-align: right;\n",
       "    }\n",
       "</style>\n",
       "<table border=\"1\" class=\"dataframe\">\n",
       "  <thead>\n",
       "    <tr style=\"text-align: right;\">\n",
       "      <th></th>\n",
       "      <th>Request id</th>\n",
       "      <th>Pickup point</th>\n",
       "      <th>Driver id</th>\n",
       "      <th>Status</th>\n",
       "      <th>Request timestamp</th>\n",
       "      <th>Drop timestamp</th>\n",
       "      <th>request_hour</th>\n",
       "      <th>request_day</th>\n",
       "      <th>Time_Slot</th>\n",
       "    </tr>\n",
       "  </thead>\n",
       "  <tbody>\n",
       "    <tr>\n",
       "      <th>0</th>\n",
       "      <td>619</td>\n",
       "      <td>Airport</td>\n",
       "      <td>1.0</td>\n",
       "      <td>Trip Completed</td>\n",
       "      <td>2016-07-11 11:51:00</td>\n",
       "      <td>2016-07-11 13:00:00</td>\n",
       "      <td>11</td>\n",
       "      <td>11</td>\n",
       "      <td>Day_Time</td>\n",
       "    </tr>\n",
       "    <tr>\n",
       "      <th>1</th>\n",
       "      <td>867</td>\n",
       "      <td>Airport</td>\n",
       "      <td>1.0</td>\n",
       "      <td>Trip Completed</td>\n",
       "      <td>2016-07-11 17:57:00</td>\n",
       "      <td>2016-07-11 18:47:00</td>\n",
       "      <td>17</td>\n",
       "      <td>11</td>\n",
       "      <td>Evening_Rush</td>\n",
       "    </tr>\n",
       "    <tr>\n",
       "      <th>2</th>\n",
       "      <td>1807</td>\n",
       "      <td>City</td>\n",
       "      <td>1.0</td>\n",
       "      <td>Trip Completed</td>\n",
       "      <td>2016-07-12 09:17:00</td>\n",
       "      <td>2016-07-12 09:58:00</td>\n",
       "      <td>9</td>\n",
       "      <td>12</td>\n",
       "      <td>Morning_Rush</td>\n",
       "    </tr>\n",
       "    <tr>\n",
       "      <th>3</th>\n",
       "      <td>2532</td>\n",
       "      <td>Airport</td>\n",
       "      <td>1.0</td>\n",
       "      <td>Trip Completed</td>\n",
       "      <td>2016-07-12 21:08:00</td>\n",
       "      <td>2016-07-12 22:03:00</td>\n",
       "      <td>21</td>\n",
       "      <td>12</td>\n",
       "      <td>Evening_Rush</td>\n",
       "    </tr>\n",
       "    <tr>\n",
       "      <th>4</th>\n",
       "      <td>3112</td>\n",
       "      <td>City</td>\n",
       "      <td>1.0</td>\n",
       "      <td>Trip Completed</td>\n",
       "      <td>2016-07-13 08:33:16</td>\n",
       "      <td>2016-07-13 09:25:47</td>\n",
       "      <td>8</td>\n",
       "      <td>13</td>\n",
       "      <td>Morning_Rush</td>\n",
       "    </tr>\n",
       "    <tr>\n",
       "      <th>...</th>\n",
       "      <td>...</td>\n",
       "      <td>...</td>\n",
       "      <td>...</td>\n",
       "      <td>...</td>\n",
       "      <td>...</td>\n",
       "      <td>...</td>\n",
       "      <td>...</td>\n",
       "      <td>...</td>\n",
       "      <td>...</td>\n",
       "    </tr>\n",
       "    <tr>\n",
       "      <th>6740</th>\n",
       "      <td>6745</td>\n",
       "      <td>City</td>\n",
       "      <td>NaN</td>\n",
       "      <td>No Cars Available</td>\n",
       "      <td>2016-07-15 23:49:03</td>\n",
       "      <td>NaT</td>\n",
       "      <td>23</td>\n",
       "      <td>15</td>\n",
       "      <td>Late_Night</td>\n",
       "    </tr>\n",
       "    <tr>\n",
       "      <th>6741</th>\n",
       "      <td>6752</td>\n",
       "      <td>Airport</td>\n",
       "      <td>NaN</td>\n",
       "      <td>No Cars Available</td>\n",
       "      <td>2016-07-15 23:50:05</td>\n",
       "      <td>NaT</td>\n",
       "      <td>23</td>\n",
       "      <td>15</td>\n",
       "      <td>Late_Night</td>\n",
       "    </tr>\n",
       "    <tr>\n",
       "      <th>6742</th>\n",
       "      <td>6751</td>\n",
       "      <td>City</td>\n",
       "      <td>NaN</td>\n",
       "      <td>No Cars Available</td>\n",
       "      <td>2016-07-15 23:52:06</td>\n",
       "      <td>NaT</td>\n",
       "      <td>23</td>\n",
       "      <td>15</td>\n",
       "      <td>Late_Night</td>\n",
       "    </tr>\n",
       "    <tr>\n",
       "      <th>6743</th>\n",
       "      <td>6754</td>\n",
       "      <td>City</td>\n",
       "      <td>NaN</td>\n",
       "      <td>No Cars Available</td>\n",
       "      <td>2016-07-15 23:54:39</td>\n",
       "      <td>NaT</td>\n",
       "      <td>23</td>\n",
       "      <td>15</td>\n",
       "      <td>Late_Night</td>\n",
       "    </tr>\n",
       "    <tr>\n",
       "      <th>6744</th>\n",
       "      <td>6753</td>\n",
       "      <td>Airport</td>\n",
       "      <td>NaN</td>\n",
       "      <td>No Cars Available</td>\n",
       "      <td>2016-07-15 23:55:03</td>\n",
       "      <td>NaT</td>\n",
       "      <td>23</td>\n",
       "      <td>15</td>\n",
       "      <td>Late_Night</td>\n",
       "    </tr>\n",
       "  </tbody>\n",
       "</table>\n",
       "<p>6745 rows × 9 columns</p>\n",
       "</div>"
      ],
      "text/plain": [
       "      Request id Pickup point  Driver id             Status  \\\n",
       "0            619      Airport        1.0     Trip Completed   \n",
       "1            867      Airport        1.0     Trip Completed   \n",
       "2           1807         City        1.0     Trip Completed   \n",
       "3           2532      Airport        1.0     Trip Completed   \n",
       "4           3112         City        1.0     Trip Completed   \n",
       "...          ...          ...        ...                ...   \n",
       "6740        6745         City        NaN  No Cars Available   \n",
       "6741        6752      Airport        NaN  No Cars Available   \n",
       "6742        6751         City        NaN  No Cars Available   \n",
       "6743        6754         City        NaN  No Cars Available   \n",
       "6744        6753      Airport        NaN  No Cars Available   \n",
       "\n",
       "       Request timestamp      Drop timestamp  request_hour  request_day  \\\n",
       "0    2016-07-11 11:51:00 2016-07-11 13:00:00            11           11   \n",
       "1    2016-07-11 17:57:00 2016-07-11 18:47:00            17           11   \n",
       "2    2016-07-12 09:17:00 2016-07-12 09:58:00             9           12   \n",
       "3    2016-07-12 21:08:00 2016-07-12 22:03:00            21           12   \n",
       "4    2016-07-13 08:33:16 2016-07-13 09:25:47             8           13   \n",
       "...                  ...                 ...           ...          ...   \n",
       "6740 2016-07-15 23:49:03                 NaT            23           15   \n",
       "6741 2016-07-15 23:50:05                 NaT            23           15   \n",
       "6742 2016-07-15 23:52:06                 NaT            23           15   \n",
       "6743 2016-07-15 23:54:39                 NaT            23           15   \n",
       "6744 2016-07-15 23:55:03                 NaT            23           15   \n",
       "\n",
       "         Time_Slot  \n",
       "0         Day_Time  \n",
       "1     Evening_Rush  \n",
       "2     Morning_Rush  \n",
       "3     Evening_Rush  \n",
       "4     Morning_Rush  \n",
       "...            ...  \n",
       "6740    Late_Night  \n",
       "6741    Late_Night  \n",
       "6742    Late_Night  \n",
       "6743    Late_Night  \n",
       "6744    Late_Night  \n",
       "\n",
       "[6745 rows x 9 columns]"
      ]
     },
     "execution_count": 78,
     "metadata": {},
     "output_type": "execute_result"
    }
   ],
   "source": [
    "df"
   ]
  },
  {
   "cell_type": "code",
   "execution_count": 79,
   "metadata": {},
   "outputs": [
    {
     "data": {
      "text/plain": [
       "Evening_Rush    2342\n",
       "Morning_Rush    2103\n",
       "Day_Time        1224\n",
       "Pre_Morning      578\n",
       "Late_Night       498\n",
       "Name: Time_Slot, dtype: int64"
      ]
     },
     "execution_count": 79,
     "metadata": {},
     "output_type": "execute_result"
    }
   ],
   "source": [
    "df[\"Time_Slot\"].value_counts()"
   ]
  },
  {
   "cell_type": "code",
   "execution_count": 81,
   "metadata": {},
   "outputs": [
    {
     "data": {
      "text/plain": [
       "6745"
      ]
     },
     "execution_count": 81,
     "metadata": {},
     "output_type": "execute_result"
    }
   ],
   "source": [
    "df[\"Time_Slot\"].count()"
   ]
  },
  {
   "cell_type": "code",
   "execution_count": 152,
   "metadata": {},
   "outputs": [
    {
     "data": {
      "image/png": "[encoded data removed]",
      "text/plain": [
       "<Figure size 720x432 with 1 Axes>"
      ]
     },
     "metadata": {
      "needs_background": "light"
     },
     "output_type": "display_data"
    }
   ],
   "source": [
    "plt.figure(figsize=(10,6))\n",
    "sns.countplot(x=\"Time_Slot\",hue=\"Status\",data=df)\n",
    "plt.show()"
   ]
  },
  {
   "cell_type": "raw",
   "metadata": {},
   "source": [
    "from the above graph, my observations are:\n",
    "During Pre Morning, Evening Rush and Late Night :- 'No Cars Available' is the major concern\n",
    "During Morning Rush :- Cab cancellation is the major concern\n"
   ]
  },
  {
   "cell_type": "code",
   "execution_count": 153,
   "metadata": {},
   "outputs": [
    {
     "data": {
      "image/png": "[encoded data removed]",
      "text/plain": [
       "<Figure size 720x432 with 1 Axes>"
      ]
     },
     "metadata": {
      "needs_background": "light"
     },
     "output_type": "display_data"
    }
   ],
   "source": [
    "plt.figure(figsize=(10,6))\n",
    "sns.countplot(x=\"Status\",hue=\"Time_Slot\",data=df)\n",
    "plt.show()"
   ]
  },
  {
   "cell_type": "markdown",
   "metadata": {},
   "source": [
    "# Supply and demand for Pre Morning"
   ]
  },
  {
   "cell_type": "code",
   "execution_count": 163,
   "metadata": {},
   "outputs": [
    {
     "data": {
      "text/html": [
       "<div>\n",
       "<style scoped>\n",
       "    .dataframe tbody tr th:only-of-type {\n",
       "        vertical-align: middle;\n",
       "    }\n",
       "\n",
       "    .dataframe tbody tr th {\n",
       "        vertical-align: top;\n",
       "    }\n",
       "\n",
       "    .dataframe thead th {\n",
       "        text-align: right;\n",
       "    }\n",
       "</style>\n",
       "<table border=\"1\" class=\"dataframe\">\n",
       "  <thead>\n",
       "    <tr style=\"text-align: right;\">\n",
       "      <th></th>\n",
       "      <th>Request id</th>\n",
       "      <th>Pickup point</th>\n",
       "      <th>Driver id</th>\n",
       "      <th>Status</th>\n",
       "      <th>Request timestamp</th>\n",
       "      <th>Drop timestamp</th>\n",
       "      <th>request_hour</th>\n",
       "      <th>request_day</th>\n",
       "      <th>Time_Slot</th>\n",
       "    </tr>\n",
       "  </thead>\n",
       "  <tbody>\n",
       "    <tr>\n",
       "      <th>12</th>\n",
       "      <td>2784</td>\n",
       "      <td>Airport</td>\n",
       "      <td>2.0</td>\n",
       "      <td>Trip Completed</td>\n",
       "      <td>2016-07-13 04:49:20</td>\n",
       "      <td>2016-07-13 05:23:03</td>\n",
       "      <td>4</td>\n",
       "      <td>13</td>\n",
       "      <td>Pre_Morning</td>\n",
       "    </tr>\n",
       "    <tr>\n",
       "      <th>26</th>\n",
       "      <td>5434</td>\n",
       "      <td>City</td>\n",
       "      <td>3.0</td>\n",
       "      <td>Trip Completed</td>\n",
       "      <td>2016-07-15 02:41:38</td>\n",
       "      <td>2016-07-15 03:24:43</td>\n",
       "      <td>2</td>\n",
       "      <td>15</td>\n",
       "      <td>Pre_Morning</td>\n",
       "    </tr>\n",
       "    <tr>\n",
       "      <th>34</th>\n",
       "      <td>4075</td>\n",
       "      <td>City</td>\n",
       "      <td>4.0</td>\n",
       "      <td>Trip Completed</td>\n",
       "      <td>2016-07-14 02:17:35</td>\n",
       "      <td>2016-07-14 03:21:38</td>\n",
       "      <td>2</td>\n",
       "      <td>14</td>\n",
       "      <td>Pre_Morning</td>\n",
       "    </tr>\n",
       "    <tr>\n",
       "      <th>53</th>\n",
       "      <td>4081</td>\n",
       "      <td>Airport</td>\n",
       "      <td>6.0</td>\n",
       "      <td>Trip Completed</td>\n",
       "      <td>2016-07-14 02:37:14</td>\n",
       "      <td>2016-07-14 03:30:27</td>\n",
       "      <td>2</td>\n",
       "      <td>14</td>\n",
       "      <td>Pre_Morning</td>\n",
       "    </tr>\n",
       "    <tr>\n",
       "      <th>56</th>\n",
       "      <td>6758</td>\n",
       "      <td>Airport</td>\n",
       "      <td>6.0</td>\n",
       "      <td>Trip Completed</td>\n",
       "      <td>2016-07-15 00:03:39</td>\n",
       "      <td>2016-07-15 01:07:39</td>\n",
       "      <td>0</td>\n",
       "      <td>15</td>\n",
       "      <td>Pre_Morning</td>\n",
       "    </tr>\n",
       "  </tbody>\n",
       "</table>\n",
       "</div>"
      ],
      "text/plain": [
       "    Request id Pickup point  Driver id          Status   Request timestamp  \\\n",
       "12        2784      Airport        2.0  Trip Completed 2016-07-13 04:49:20   \n",
       "26        5434         City        3.0  Trip Completed 2016-07-15 02:41:38   \n",
       "34        4075         City        4.0  Trip Completed 2016-07-14 02:17:35   \n",
       "53        4081      Airport        6.0  Trip Completed 2016-07-14 02:37:14   \n",
       "56        6758      Airport        6.0  Trip Completed 2016-07-15 00:03:39   \n",
       "\n",
       "        Drop timestamp  request_hour  request_day    Time_Slot  \n",
       "12 2016-07-13 05:23:03             4           13  Pre_Morning  \n",
       "26 2016-07-15 03:24:43             2           15  Pre_Morning  \n",
       "34 2016-07-14 03:21:38             2           14  Pre_Morning  \n",
       "53 2016-07-14 03:30:27             2           14  Pre_Morning  \n",
       "56 2016-07-15 01:07:39             0           15  Pre_Morning  "
      ]
     },
     "execution_count": 163,
     "metadata": {},
     "output_type": "execute_result"
    }
   ],
   "source": [
    "df_pre_morning = df[df.Time_Slot == 'Pre_Morning']\n",
    "df_pre_morning.head()\n"
   ]
  },
  {
   "cell_type": "code",
   "execution_count": 179,
   "metadata": {},
   "outputs": [
    {
     "data": {
      "text/plain": [
       "No Cars Available    299\n",
       "Trip Completed       214\n",
       "Cancelled             65\n",
       "Name: Status, dtype: int64"
      ]
     },
     "execution_count": 179,
     "metadata": {},
     "output_type": "execute_result"
    }
   ],
   "source": [
    "df_pre_morning['Status'].value_counts()"
   ]
  },
  {
   "cell_type": "code",
   "execution_count": 187,
   "metadata": {},
   "outputs": [
    {
     "data": {
      "text/html": [
       "<div>\n",
       "<style scoped>\n",
       "    .dataframe tbody tr th:only-of-type {\n",
       "        vertical-align: middle;\n",
       "    }\n",
       "\n",
       "    .dataframe tbody tr th {\n",
       "        vertical-align: top;\n",
       "    }\n",
       "\n",
       "    .dataframe thead th {\n",
       "        text-align: right;\n",
       "    }\n",
       "</style>\n",
       "<table border=\"1\" class=\"dataframe\">\n",
       "  <thead>\n",
       "    <tr style=\"text-align: right;\">\n",
       "      <th></th>\n",
       "      <th>Status</th>\n",
       "    </tr>\n",
       "  </thead>\n",
       "  <tbody>\n",
       "    <tr>\n",
       "      <th>No Cars Available</th>\n",
       "      <td>299</td>\n",
       "    </tr>\n",
       "    <tr>\n",
       "      <th>Trip Completed</th>\n",
       "      <td>214</td>\n",
       "    </tr>\n",
       "    <tr>\n",
       "      <th>Cancelled</th>\n",
       "      <td>65</td>\n",
       "    </tr>\n",
       "  </tbody>\n",
       "</table>\n",
       "</div>"
      ],
      "text/plain": [
       "                   Status\n",
       "No Cars Available     299\n",
       "Trip Completed        214\n",
       "Cancelled              65"
      ]
     },
     "execution_count": 187,
     "metadata": {},
     "output_type": "execute_result"
    }
   ],
   "source": [
    "dataframe_pre_morning = pd.DataFrame(df_pre_morning['Status'].value_counts())\n",
    "dataframe_pre_morning"
   ]
  },
  {
   "cell_type": "code",
   "execution_count": 197,
   "metadata": {},
   "outputs": [
    {
     "data": {
      "image/png": "[encoded data removed]",
      "text/plain": [
       "<Figure size 432x288 with 1 Axes>"
      ]
     },
     "metadata": {
      "needs_background": "light"
     },
     "output_type": "display_data"
    }
   ],
   "source": [
    "ax = sns.barplot(x= 'Status',y = dataframe_pre_morning.index, data = dataframe_pre_morning)\n",
    "ax.set_xlabel(\"Count\")\n",
    "plt.show()"
   ]
  },
  {
   "cell_type": "code",
   "execution_count": 173,
   "metadata": {},
   "outputs": [
    {
     "data": {
      "image/png": "[encoded data removed]",
      "text/plain": [
       "<Figure size 432x288 with 1 Axes>"
      ]
     },
     "metadata": {
      "needs_background": "light"
     },
     "output_type": "display_data"
    }
   ],
   "source": [
    "sns.countplot(x='Status', data = df_pre_morning, hue = 'Pickup point')"
   ]
  },
  {
   "cell_type": "code",
   "execution_count": 198,
   "metadata": {},
   "outputs": [
    {
     "data": {
      "text/plain": [
       "<seaborn.axisgrid.FacetGrid at 0x245910ff508>"
      ]
     },
     "execution_count": 198,
     "metadata": {},
     "output_type": "execute_result"
    },
    {
     "data": {
      "image/png": "[encoded data removed]",
      "text/plain": [
       "<Figure size 496.475x720 with 2 Axes>"
      ]
     },
     "metadata": {
      "needs_background": "light"
     },
     "output_type": "display_data"
    }
   ],
   "source": [
    "sns.catplot(x='request_hour', data = df_pre_morning, hue = 'Status', row ='Pickup point', kind = 'count')"
   ]
  },
  {
   "cell_type": "code",
   "execution_count": null,
   "metadata": {},
   "outputs": [],
   "source": []
  },
  {
   "cell_type": "markdown",
   "metadata": {},
   "source": [
    "# Severity of problem by location and their count (cancellation of cab as per the pickup location at morning rush hours)"
   ]
  },
  {
   "cell_type": "code",
   "execution_count": 88,
   "metadata": {},
   "outputs": [],
   "source": [
    "df_morning_rush=df[df['Time_Slot']=='Morning_Rush']\n"
   ]
  },
  {
   "cell_type": "code",
   "execution_count": 89,
   "metadata": {},
   "outputs": [
    {
     "data": {
      "text/plain": [
       "<matplotlib.axes._subplots.AxesSubplot at 0x24590fb2608>"
      ]
     },
     "execution_count": 89,
     "metadata": {},
     "output_type": "execute_result"
    },
    {
     "data": {
      "image/png": "[encoded data removed]",
      "text/plain": [
       "<Figure size 432x288 with 1 Axes>"
      ]
     },
     "metadata": {
      "needs_background": "light"
     },
     "output_type": "display_data"
    }
   ],
   "source": [
    "sns.countplot(x=\"Pickup point\",hue=\"Status\",data=df_morning_rush)"
   ]
  },
  {
   "cell_type": "code",
   "execution_count": 100,
   "metadata": {},
   "outputs": [
    {
     "data": {
      "text/plain": [
       "array(['City', 'Airport'], dtype=object)"
      ]
     },
     "execution_count": 100,
     "metadata": {},
     "output_type": "execute_result"
    }
   ],
   "source": [
    "df_morning_rush['Pickup point'].unique()"
   ]
  },
  {
   "cell_type": "code",
   "execution_count": 95,
   "metadata": {},
   "outputs": [
    {
     "data": {
      "text/html": [
       "<div>\n",
       "<style scoped>\n",
       "    .dataframe tbody tr th:only-of-type {\n",
       "        vertical-align: middle;\n",
       "    }\n",
       "\n",
       "    .dataframe tbody tr th {\n",
       "        vertical-align: top;\n",
       "    }\n",
       "\n",
       "    .dataframe thead th {\n",
       "        text-align: right;\n",
       "    }\n",
       "</style>\n",
       "<table border=\"1\" class=\"dataframe\">\n",
       "  <thead>\n",
       "    <tr style=\"text-align: right;\">\n",
       "      <th></th>\n",
       "      <th>Request id</th>\n",
       "      <th>Pickup point</th>\n",
       "      <th>Driver id</th>\n",
       "      <th>Status</th>\n",
       "      <th>Request timestamp</th>\n",
       "      <th>Drop timestamp</th>\n",
       "      <th>request_hour</th>\n",
       "      <th>request_day</th>\n",
       "      <th>Time_Slot</th>\n",
       "    </tr>\n",
       "  </thead>\n",
       "  <tbody>\n",
       "    <tr>\n",
       "      <th>2841</th>\n",
       "      <td>1867</td>\n",
       "      <td>Airport</td>\n",
       "      <td>3.0</td>\n",
       "      <td>Cancelled</td>\n",
       "      <td>2016-07-12 09:59:00</td>\n",
       "      <td>NaT</td>\n",
       "      <td>9</td>\n",
       "      <td>12</td>\n",
       "      <td>Morning_Rush</td>\n",
       "    </tr>\n",
       "    <tr>\n",
       "      <th>2909</th>\n",
       "      <td>1462</td>\n",
       "      <td>Airport</td>\n",
       "      <td>23.0</td>\n",
       "      <td>Cancelled</td>\n",
       "      <td>2016-07-12 05:01:00</td>\n",
       "      <td>NaT</td>\n",
       "      <td>5</td>\n",
       "      <td>12</td>\n",
       "      <td>Morning_Rush</td>\n",
       "    </tr>\n",
       "    <tr>\n",
       "      <th>2910</th>\n",
       "      <td>196</td>\n",
       "      <td>Airport</td>\n",
       "      <td>24.0</td>\n",
       "      <td>Cancelled</td>\n",
       "      <td>2016-07-11 06:07:00</td>\n",
       "      <td>NaT</td>\n",
       "      <td>6</td>\n",
       "      <td>11</td>\n",
       "      <td>Morning_Rush</td>\n",
       "    </tr>\n",
       "    <tr>\n",
       "      <th>2944</th>\n",
       "      <td>5847</td>\n",
       "      <td>Airport</td>\n",
       "      <td>31.0</td>\n",
       "      <td>Cancelled</td>\n",
       "      <td>2016-07-15 09:05:38</td>\n",
       "      <td>NaT</td>\n",
       "      <td>9</td>\n",
       "      <td>15</td>\n",
       "      <td>Morning_Rush</td>\n",
       "    </tr>\n",
       "    <tr>\n",
       "      <th>3130</th>\n",
       "      <td>2844</td>\n",
       "      <td>Airport</td>\n",
       "      <td>74.0</td>\n",
       "      <td>Cancelled</td>\n",
       "      <td>2016-07-13 05:28:12</td>\n",
       "      <td>NaT</td>\n",
       "      <td>5</td>\n",
       "      <td>13</td>\n",
       "      <td>Morning_Rush</td>\n",
       "    </tr>\n",
       "  </tbody>\n",
       "</table>\n",
       "</div>"
      ],
      "text/plain": [
       "      Request id Pickup point  Driver id     Status   Request timestamp  \\\n",
       "2841        1867      Airport        3.0  Cancelled 2016-07-12 09:59:00   \n",
       "2909        1462      Airport       23.0  Cancelled 2016-07-12 05:01:00   \n",
       "2910         196      Airport       24.0  Cancelled 2016-07-11 06:07:00   \n",
       "2944        5847      Airport       31.0  Cancelled 2016-07-15 09:05:38   \n",
       "3130        2844      Airport       74.0  Cancelled 2016-07-13 05:28:12   \n",
       "\n",
       "     Drop timestamp  request_hour  request_day     Time_Slot  \n",
       "2841            NaT             9           12  Morning_Rush  \n",
       "2909            NaT             5           12  Morning_Rush  \n",
       "2910            NaT             6           11  Morning_Rush  \n",
       "2944            NaT             9           15  Morning_Rush  \n",
       "3130            NaT             5           13  Morning_Rush  "
      ]
     },
     "execution_count": 95,
     "metadata": {},
     "output_type": "execute_result"
    }
   ],
   "source": [
    "# For Pickup point = 'Airport' and Status = Cancelled\n",
    "\n",
    "# df_airport_cancelled=df_morning_rush[(df_morning_rush[\"Pickup point\"]==\"Airport\") & (df_morning_rush[\"Status\"]==\"Cancelled\")]\n",
    "# or\n",
    "df_airport_cancelled=df_morning_rush.loc[(df_morning_rush[\"Pickup point\"]==\"Airport\") & (df_morning_rush[\"Status\"]==\"Cancelled\")]\n",
    "df_airport_cancelled.head()"
   ]
  },
  {
   "cell_type": "code",
   "execution_count": 91,
   "metadata": {},
   "outputs": [
    {
     "data": {
      "text/plain": [
       "23"
      ]
     },
     "execution_count": 91,
     "metadata": {},
     "output_type": "execute_result"
    }
   ],
   "source": [
    "df_airport_cancelled.shape[0]"
   ]
  },
  {
   "cell_type": "code",
   "execution_count": 154,
   "metadata": {},
   "outputs": [],
   "source": [
    "# For Pickup point = 'City' and Status = 'Cancelled'\n",
    "\n",
    "df_city_cancelled=df_morning_rush.loc[(df_morning_rush[\"Pickup point\"]==\"City\") & (df_morning_rush[\"Status\"]==\"Cancelled\")]"
   ]
  },
  {
   "cell_type": "code",
   "execution_count": 155,
   "metadata": {},
   "outputs": [
    {
     "data": {
      "text/plain": [
       "820"
      ]
     },
     "execution_count": 155,
     "metadata": {},
     "output_type": "execute_result"
    }
   ],
   "source": [
    "df_city_cancelled.shape[0]"
   ]
  },
  {
   "cell_type": "code",
   "execution_count": 156,
   "metadata": {},
   "outputs": [
    {
     "data": {
      "text/plain": [
       "<matplotlib.axes._subplots.AxesSubplot at 0x24593e228c8>"
      ]
     },
     "execution_count": 156,
     "metadata": {},
     "output_type": "execute_result"
    },
    {
     "data": {
      "image/png": "[encoded data removed]",
      "text/plain": [
       "<Figure size 432x288 with 1 Axes>"
      ]
     },
     "metadata": {
      "needs_background": "light"
     },
     "output_type": "display_data"
    }
   ],
   "source": [
    "sns.countplot(x='Pickup point', data = df_morning_rush, hue = 'Status')"
   ]
  },
  {
   "cell_type": "code",
   "execution_count": 157,
   "metadata": {},
   "outputs": [
    {
     "data": {
      "image/png": "[encoded data removed]",
      "text/plain": [
       "<Figure size 864x360 with 2 Axes>"
      ]
     },
     "metadata": {
      "needs_background": "light"
     },
     "output_type": "display_data"
    }
   ],
   "source": [
    "plt.figure(figsize=(12,5))\n",
    "\n",
    "plt.subplot(1,2,1)\n",
    "ax=sns.countplot(x='request_hour', data = df_airport_cancelled)\n",
    "ax.set_title('Cabs cancelled from airport')\n",
    "\n",
    "plt.subplot(1,2,2)\n",
    "ax=sns.countplot(x='request_hour', data = df_city_cancelled)\n",
    "ax.set_title('Cabs cancelled within city')\n",
    "plt.show()"
   ]
  },
  {
   "cell_type": "code",
   "execution_count": 150,
   "metadata": {},
   "outputs": [
    {
     "data": {
      "text/plain": [
       "<matplotlib.axes._subplots.AxesSubplot at 0x24591614e48>"
      ]
     },
     "execution_count": 150,
     "metadata": {},
     "output_type": "execute_result"
    },
    {
     "data": {
      "image/png": "[encoded data removed]",
      "text/plain": [
       "<Figure size 432x288 with 1 Axes>"
      ]
     },
     "metadata": {
      "needs_background": "light"
     },
     "output_type": "display_data"
    }
   ],
   "source": [
    "sns.countplot(x='request_hour', data = df_airport_cancelled)"
   ]
  },
  {
   "cell_type": "markdown",
   "metadata": {},
   "source": [
    "# Supply and demand for Morning rush"
   ]
  },
  {
   "cell_type": "code",
   "execution_count": 200,
   "metadata": {},
   "outputs": [
    {
     "data": {
      "text/html": [
       "<div>\n",
       "<style scoped>\n",
       "    .dataframe tbody tr th:only-of-type {\n",
       "        vertical-align: middle;\n",
       "    }\n",
       "\n",
       "    .dataframe tbody tr th {\n",
       "        vertical-align: top;\n",
       "    }\n",
       "\n",
       "    .dataframe thead th {\n",
       "        text-align: right;\n",
       "    }\n",
       "</style>\n",
       "<table border=\"1\" class=\"dataframe\">\n",
       "  <thead>\n",
       "    <tr style=\"text-align: right;\">\n",
       "      <th></th>\n",
       "      <th>Request id</th>\n",
       "      <th>Pickup point</th>\n",
       "      <th>Driver id</th>\n",
       "      <th>Status</th>\n",
       "      <th>Request timestamp</th>\n",
       "      <th>Drop timestamp</th>\n",
       "      <th>request_hour</th>\n",
       "      <th>request_day</th>\n",
       "      <th>Time_Slot</th>\n",
       "    </tr>\n",
       "  </thead>\n",
       "  <tbody>\n",
       "    <tr>\n",
       "      <th>2</th>\n",
       "      <td>1807</td>\n",
       "      <td>City</td>\n",
       "      <td>1.0</td>\n",
       "      <td>Trip Completed</td>\n",
       "      <td>2016-07-12 09:17:00</td>\n",
       "      <td>2016-07-12 09:58:00</td>\n",
       "      <td>9</td>\n",
       "      <td>12</td>\n",
       "      <td>Morning_Rush</td>\n",
       "    </tr>\n",
       "    <tr>\n",
       "      <th>4</th>\n",
       "      <td>3112</td>\n",
       "      <td>City</td>\n",
       "      <td>1.0</td>\n",
       "      <td>Trip Completed</td>\n",
       "      <td>2016-07-13 08:33:16</td>\n",
       "      <td>2016-07-13 09:25:47</td>\n",
       "      <td>8</td>\n",
       "      <td>13</td>\n",
       "      <td>Morning_Rush</td>\n",
       "    </tr>\n",
       "    <tr>\n",
       "      <th>6</th>\n",
       "      <td>4270</td>\n",
       "      <td>Airport</td>\n",
       "      <td>1.0</td>\n",
       "      <td>Trip Completed</td>\n",
       "      <td>2016-07-14 06:15:32</td>\n",
       "      <td>2016-07-14 07:13:15</td>\n",
       "      <td>6</td>\n",
       "      <td>14</td>\n",
       "      <td>Morning_Rush</td>\n",
       "    </tr>\n",
       "    <tr>\n",
       "      <th>7</th>\n",
       "      <td>5510</td>\n",
       "      <td>Airport</td>\n",
       "      <td>1.0</td>\n",
       "      <td>Trip Completed</td>\n",
       "      <td>2016-07-15 05:11:52</td>\n",
       "      <td>2016-07-15 06:07:52</td>\n",
       "      <td>5</td>\n",
       "      <td>15</td>\n",
       "      <td>Morning_Rush</td>\n",
       "    </tr>\n",
       "    <tr>\n",
       "      <th>9</th>\n",
       "      <td>267</td>\n",
       "      <td>City</td>\n",
       "      <td>2.0</td>\n",
       "      <td>Trip Completed</td>\n",
       "      <td>2016-07-11 06:46:00</td>\n",
       "      <td>2016-07-11 07:25:00</td>\n",
       "      <td>6</td>\n",
       "      <td>11</td>\n",
       "      <td>Morning_Rush</td>\n",
       "    </tr>\n",
       "  </tbody>\n",
       "</table>\n",
       "</div>"
      ],
      "text/plain": [
       "   Request id Pickup point  Driver id          Status   Request timestamp  \\\n",
       "2        1807         City        1.0  Trip Completed 2016-07-12 09:17:00   \n",
       "4        3112         City        1.0  Trip Completed 2016-07-13 08:33:16   \n",
       "6        4270      Airport        1.0  Trip Completed 2016-07-14 06:15:32   \n",
       "7        5510      Airport        1.0  Trip Completed 2016-07-15 05:11:52   \n",
       "9         267         City        2.0  Trip Completed 2016-07-11 06:46:00   \n",
       "\n",
       "       Drop timestamp  request_hour  request_day     Time_Slot  \n",
       "2 2016-07-12 09:58:00             9           12  Morning_Rush  \n",
       "4 2016-07-13 09:25:47             8           13  Morning_Rush  \n",
       "6 2016-07-14 07:13:15             6           14  Morning_Rush  \n",
       "7 2016-07-15 06:07:52             5           15  Morning_Rush  \n",
       "9 2016-07-11 07:25:00             6           11  Morning_Rush  "
      ]
     },
     "execution_count": 200,
     "metadata": {},
     "output_type": "execute_result"
    }
   ],
   "source": [
    "df_morning_rush.head()"
   ]
  },
  {
   "cell_type": "code",
   "execution_count": 206,
   "metadata": {},
   "outputs": [
    {
     "data": {
      "text/plain": [
       "Trip Completed       854\n",
       "Cancelled            843\n",
       "No Cars Available    406\n",
       "Name: Status, dtype: int64"
      ]
     },
     "execution_count": 206,
     "metadata": {},
     "output_type": "execute_result"
    }
   ],
   "source": [
    "df_morning_rush.Status.value_counts()"
   ]
  },
  {
   "cell_type": "code",
   "execution_count": 209,
   "metadata": {},
   "outputs": [
    {
     "data": {
      "text/html": [
       "<div>\n",
       "<style scoped>\n",
       "    .dataframe tbody tr th:only-of-type {\n",
       "        vertical-align: middle;\n",
       "    }\n",
       "\n",
       "    .dataframe tbody tr th {\n",
       "        vertical-align: top;\n",
       "    }\n",
       "\n",
       "    .dataframe thead th {\n",
       "        text-align: right;\n",
       "    }\n",
       "</style>\n",
       "<table border=\"1\" class=\"dataframe\">\n",
       "  <thead>\n",
       "    <tr style=\"text-align: right;\">\n",
       "      <th></th>\n",
       "      <th>Status</th>\n",
       "    </tr>\n",
       "  </thead>\n",
       "  <tbody>\n",
       "    <tr>\n",
       "      <th>Trip Completed</th>\n",
       "      <td>854</td>\n",
       "    </tr>\n",
       "    <tr>\n",
       "      <th>Cancelled</th>\n",
       "      <td>843</td>\n",
       "    </tr>\n",
       "    <tr>\n",
       "      <th>No Cars Available</th>\n",
       "      <td>406</td>\n",
       "    </tr>\n",
       "  </tbody>\n",
       "</table>\n",
       "</div>"
      ],
      "text/plain": [
       "                   Status\n",
       "Trip Completed        854\n",
       "Cancelled             843\n",
       "No Cars Available     406"
      ]
     },
     "execution_count": 209,
     "metadata": {},
     "output_type": "execute_result"
    }
   ],
   "source": [
    "dataframe_morning_rush = pd.DataFrame(df_morning_rush.Status.value_counts())\n",
    "dataframe_morning_rush"
   ]
  },
  {
   "cell_type": "code",
   "execution_count": 210,
   "metadata": {},
   "outputs": [
    {
     "data": {
      "image/png": "[encoded data removed]",
      "text/plain": [
       "<Figure size 432x288 with 1 Axes>"
      ]
     },
     "metadata": {
      "needs_background": "light"
     },
     "output_type": "display_data"
    }
   ],
   "source": [
    "# Inference: Cancelled trips are approx equivalent to Trip Competed\n",
    "\n",
    "ax = sns.barplot(x= 'Status',y = dataframe_morning_rush.index, data = dataframe_morning_rush)\n",
    "ax.set_xlabel(\"Count\")\n",
    "plt.show()"
   ]
  },
  {
   "cell_type": "code",
   "execution_count": 124,
   "metadata": {},
   "outputs": [
    {
     "data": {
      "text/plain": [
       "1677"
      ]
     },
     "execution_count": 124,
     "metadata": {},
     "output_type": "execute_result"
    }
   ],
   "source": [
    "df_morning_rush.loc[(df_morning_rush[\"Pickup point\"]==\"City\")].shape[0]"
   ]
  },
  {
   "cell_type": "code",
   "execution_count": 125,
   "metadata": {},
   "outputs": [
    {
     "data": {
      "text/plain": [
       "472"
      ]
     },
     "execution_count": 125,
     "metadata": {},
     "output_type": "execute_result"
    }
   ],
   "source": [
    "df_morning_rush.loc[(df_morning_rush[\"Pickup point\"]==\"City\") & (df_morning_rush[\"Status\"]==\"Trip Completed\")].shape[0]"
   ]
  },
  {
   "cell_type": "code",
   "execution_count": 126,
   "metadata": {},
   "outputs": [
    {
     "data": {
      "text/plain": [
       "426"
      ]
     },
     "execution_count": 126,
     "metadata": {},
     "output_type": "execute_result"
    }
   ],
   "source": [
    "df_morning_rush.loc[(df_morning_rush[\"Pickup point\"]==\"Airport\")].shape[0]"
   ]
  },
  {
   "cell_type": "code",
   "execution_count": 127,
   "metadata": {},
   "outputs": [
    {
     "data": {
      "text/plain": [
       "382"
      ]
     },
     "execution_count": 127,
     "metadata": {},
     "output_type": "execute_result"
    }
   ],
   "source": [
    "df_morning_rush.loc[(df_morning_rush[\"Pickup point\"]==\"Airport\") & (df_morning_rush[\"Status\"]==\"Trip Completed\")].shape[0]"
   ]
  },
  {
   "cell_type": "code",
   "execution_count": 212,
   "metadata": {},
   "outputs": [
    {
     "data": {
      "text/plain": [
       "<matplotlib.axes._subplots.AxesSubplot at 0x2458ce32948>"
      ]
     },
     "execution_count": 212,
     "metadata": {},
     "output_type": "execute_result"
    },
    {
     "data": {
      "image/png": "[encoded data removed]",
      "text/plain": [
       "<Figure size 432x288 with 1 Axes>"
      ]
     },
     "metadata": {
      "needs_background": "light"
     },
     "output_type": "display_data"
    }
   ],
   "source": [
    "sns.countplot(x= 'Status', data = df_morning_rush, hue = 'Pickup point')"
   ]
  },
  {
   "cell_type": "markdown",
   "metadata": {},
   "source": [
    "#### Inference: major issue is within the city as Uber is not able to fulfil the demand. There is huge shortage of cabs within city during Morning rush"
   ]
  },
  {
   "cell_type": "code",
   "execution_count": 214,
   "metadata": {},
   "outputs": [
    {
     "data": {
      "image/png": "[encoded data removed]",
      "text/plain": [
       "<Figure size 496.475x720 with 2 Axes>"
      ]
     },
     "metadata": {
      "needs_background": "light"
     },
     "output_type": "display_data"
    }
   ],
   "source": [
    "sns.catplot(x='request_hour', data = df_morning_rush, hue = 'Status', row ='Pickup point', kind = 'count')\n",
    "plt.show()"
   ]
  },
  {
   "cell_type": "code",
   "execution_count": 140,
   "metadata": {},
   "outputs": [
    {
     "data": {
      "text/plain": [
       "Trip Completed       382\n",
       "Cancelled             23\n",
       "No Cars Available     21\n",
       "Name: Status, dtype: int64"
      ]
     },
     "execution_count": 140,
     "metadata": {},
     "output_type": "execute_result"
    }
   ],
   "source": [
    "df_morning_rush[df_morning_rush[\"Pickup point\"]==\"Airport\"][\"Status\"].value_counts()"
   ]
  },
  {
   "cell_type": "code",
   "execution_count": 141,
   "metadata": {},
   "outputs": [
    {
     "data": {
      "text/plain": [
       "Cancelled            820\n",
       "Trip Completed       472\n",
       "No Cars Available    385\n",
       "Name: Status, dtype: int64"
      ]
     },
     "execution_count": 141,
     "metadata": {},
     "output_type": "execute_result"
    }
   ],
   "source": [
    "df_morning_rush[df_morning_rush[\"Pickup point\"]==\"City\"][\"Status\"].value_counts()"
   ]
  },
  {
   "cell_type": "markdown",
   "metadata": {},
   "source": [
    "# Supply and Demand for Day time"
   ]
  },
  {
   "cell_type": "code",
   "execution_count": 230,
   "metadata": {},
   "outputs": [
    {
     "data": {
      "text/html": [
       "<div>\n",
       "<style scoped>\n",
       "    .dataframe tbody tr th:only-of-type {\n",
       "        vertical-align: middle;\n",
       "    }\n",
       "\n",
       "    .dataframe tbody tr th {\n",
       "        vertical-align: top;\n",
       "    }\n",
       "\n",
       "    .dataframe thead th {\n",
       "        text-align: right;\n",
       "    }\n",
       "</style>\n",
       "<table border=\"1\" class=\"dataframe\">\n",
       "  <thead>\n",
       "    <tr style=\"text-align: right;\">\n",
       "      <th></th>\n",
       "      <th>Request id</th>\n",
       "      <th>Pickup point</th>\n",
       "      <th>Driver id</th>\n",
       "      <th>Status</th>\n",
       "      <th>Request timestamp</th>\n",
       "      <th>Drop timestamp</th>\n",
       "      <th>request_hour</th>\n",
       "      <th>request_day</th>\n",
       "      <th>Time_Slot</th>\n",
       "    </tr>\n",
       "  </thead>\n",
       "  <tbody>\n",
       "    <tr>\n",
       "      <th>0</th>\n",
       "      <td>619</td>\n",
       "      <td>Airport</td>\n",
       "      <td>1.0</td>\n",
       "      <td>Trip Completed</td>\n",
       "      <td>2016-07-11 11:51:00</td>\n",
       "      <td>2016-07-11 13:00:00</td>\n",
       "      <td>11</td>\n",
       "      <td>11</td>\n",
       "      <td>Day_Time</td>\n",
       "    </tr>\n",
       "    <tr>\n",
       "      <th>11</th>\n",
       "      <td>1983</td>\n",
       "      <td>City</td>\n",
       "      <td>2.0</td>\n",
       "      <td>Trip Completed</td>\n",
       "      <td>2016-07-12 12:30:00</td>\n",
       "      <td>2016-07-12 12:57:00</td>\n",
       "      <td>12</td>\n",
       "      <td>12</td>\n",
       "      <td>Day_Time</td>\n",
       "    </tr>\n",
       "    <tr>\n",
       "      <th>14</th>\n",
       "      <td>3379</td>\n",
       "      <td>City</td>\n",
       "      <td>2.0</td>\n",
       "      <td>Trip Completed</td>\n",
       "      <td>2016-07-13 14:23:02</td>\n",
       "      <td>2016-07-13 15:35:18</td>\n",
       "      <td>14</td>\n",
       "      <td>13</td>\n",
       "      <td>Day_Time</td>\n",
       "    </tr>\n",
       "    <tr>\n",
       "      <th>16</th>\n",
       "      <td>4652</td>\n",
       "      <td>City</td>\n",
       "      <td>2.0</td>\n",
       "      <td>Trip Completed</td>\n",
       "      <td>2016-07-14 12:01:02</td>\n",
       "      <td>2016-07-14 12:36:46</td>\n",
       "      <td>12</td>\n",
       "      <td>14</td>\n",
       "      <td>Day_Time</td>\n",
       "    </tr>\n",
       "    <tr>\n",
       "      <th>18</th>\n",
       "      <td>535</td>\n",
       "      <td>Airport</td>\n",
       "      <td>3.0</td>\n",
       "      <td>Trip Completed</td>\n",
       "      <td>2016-07-11 10:00:00</td>\n",
       "      <td>2016-07-11 10:31:00</td>\n",
       "      <td>10</td>\n",
       "      <td>11</td>\n",
       "      <td>Day_Time</td>\n",
       "    </tr>\n",
       "  </tbody>\n",
       "</table>\n",
       "</div>"
      ],
      "text/plain": [
       "    Request id Pickup point  Driver id          Status   Request timestamp  \\\n",
       "0          619      Airport        1.0  Trip Completed 2016-07-11 11:51:00   \n",
       "11        1983         City        2.0  Trip Completed 2016-07-12 12:30:00   \n",
       "14        3379         City        2.0  Trip Completed 2016-07-13 14:23:02   \n",
       "16        4652         City        2.0  Trip Completed 2016-07-14 12:01:02   \n",
       "18         535      Airport        3.0  Trip Completed 2016-07-11 10:00:00   \n",
       "\n",
       "        Drop timestamp  request_hour  request_day Time_Slot  \n",
       "0  2016-07-11 13:00:00            11           11  Day_Time  \n",
       "11 2016-07-12 12:57:00            12           12  Day_Time  \n",
       "14 2016-07-13 15:35:18            14           13  Day_Time  \n",
       "16 2016-07-14 12:36:46            12           14  Day_Time  \n",
       "18 2016-07-11 10:31:00            10           11  Day_Time  "
      ]
     },
     "execution_count": 230,
     "metadata": {},
     "output_type": "execute_result"
    }
   ],
   "source": [
    "df_day_time = df[df['Time_Slot']=='Day_Time']\n",
    "df_day_time.head()"
   ]
  },
  {
   "cell_type": "code",
   "execution_count": 231,
   "metadata": {},
   "outputs": [
    {
     "data": {
      "text/plain": [
       "(1224, 9)"
      ]
     },
     "execution_count": 231,
     "metadata": {},
     "output_type": "execute_result"
    }
   ],
   "source": [
    "df_day_time.shape"
   ]
  },
  {
   "cell_type": "code",
   "execution_count": null,
   "metadata": {},
   "outputs": [],
   "source": [
    "dhdskjjdcjjndjdsjdskdsdskjdkjbdskjkdsjnsddcjndskdskjcbdskd"
   ]
  },
  {
   "cell_type": "code",
   "execution_count": null,
   "metadata": {},
   "outputs": [],
   "source": []
  },
  {
   "cell_type": "code",
   "execution_count": 233,
   "metadata": {},
   "outputs": [
    {
     "data": {
      "text/plain": [
       "Trip Completed       722\n",
       "No Cars Available    334\n",
       "Cancelled            168\n",
       "Name: Status, dtype: int64"
      ]
     },
     "execution_count": 233,
     "metadata": {},
     "output_type": "execute_result"
    }
   ],
   "source": [
    "df_day_time.Status.value_counts()"
   ]
  },
  {
   "cell_type": "code",
   "execution_count": 235,
   "metadata": {},
   "outputs": [
    {
     "data": {
      "text/html": [
       "<div>\n",
       "<style scoped>\n",
       "    .dataframe tbody tr th:only-of-type {\n",
       "        vertical-align: middle;\n",
       "    }\n",
       "\n",
       "    .dataframe tbody tr th {\n",
       "        vertical-align: top;\n",
       "    }\n",
       "\n",
       "    .dataframe thead th {\n",
       "        text-align: right;\n",
       "    }\n",
       "</style>\n",
       "<table border=\"1\" class=\"dataframe\">\n",
       "  <thead>\n",
       "    <tr style=\"text-align: right;\">\n",
       "      <th></th>\n",
       "      <th>Status</th>\n",
       "    </tr>\n",
       "  </thead>\n",
       "  <tbody>\n",
       "    <tr>\n",
       "      <th>Trip Completed</th>\n",
       "      <td>722</td>\n",
       "    </tr>\n",
       "    <tr>\n",
       "      <th>No Cars Available</th>\n",
       "      <td>334</td>\n",
       "    </tr>\n",
       "    <tr>\n",
       "      <th>Cancelled</th>\n",
       "      <td>168</td>\n",
       "    </tr>\n",
       "  </tbody>\n",
       "</table>\n",
       "</div>"
      ],
      "text/plain": [
       "                   Status\n",
       "Trip Completed        722\n",
       "No Cars Available     334\n",
       "Cancelled             168"
      ]
     },
     "execution_count": 235,
     "metadata": {},
     "output_type": "execute_result"
    }
   ],
   "source": [
    "dataframe_day_time =  pd.DataFrame(df_day_time.Status.value_counts())\n",
    "dataframe_day_time"
   ]
  },
  {
   "cell_type": "code",
   "execution_count": 237,
   "metadata": {},
   "outputs": [
    {
     "data": {
      "image/png": "[encoded data removed]",
      "text/plain": [
       "<Figure size 432x288 with 1 Axes>"
      ]
     },
     "metadata": {
      "needs_background": "light"
     },
     "output_type": "display_data"
    }
   ],
   "source": [
    "sns.barplot(x=dataframe_day_time.Status, y = dataframe_day_time.index, data = dataframe_day_time)\n",
    "plt.show()"
   ]
  },
  {
   "cell_type": "code",
   "execution_count": null,
   "metadata": {},
   "outputs": [],
   "source": []
  },
  {
   "cell_type": "code",
   "execution_count": null,
   "metadata": {},
   "outputs": [],
   "source": []
  },
  {
   "cell_type": "code",
   "execution_count": null,
   "metadata": {},
   "outputs": [],
   "source": []
  },
  {
   "cell_type": "code",
   "execution_count": null,
   "metadata": {},
   "outputs": [],
   "source": []
  },
  {
   "cell_type": "markdown",
   "metadata": {},
   "source": [
    "# Supply and Demand for evening rush"
   ]
  },
  {
   "cell_type": "code",
   "execution_count": 215,
   "metadata": {},
   "outputs": [],
   "source": [
    "df_evening_rush=df[df['Time_Slot']=='Evening_Rush']\n"
   ]
  },
  {
   "cell_type": "code",
   "execution_count": 216,
   "metadata": {},
   "outputs": [
    {
     "data": {
      "text/plain": [
       "No Cars Available    1392\n",
       "Trip Completed        784\n",
       "Cancelled             166\n",
       "Name: Status, dtype: int64"
      ]
     },
     "execution_count": 216,
     "metadata": {},
     "output_type": "execute_result"
    }
   ],
   "source": [
    "df_evening_rush.Status.value_counts()"
   ]
  },
  {
   "cell_type": "code",
   "execution_count": 219,
   "metadata": {},
   "outputs": [
    {
     "data": {
      "text/html": [
       "<div>\n",
       "<style scoped>\n",
       "    .dataframe tbody tr th:only-of-type {\n",
       "        vertical-align: middle;\n",
       "    }\n",
       "\n",
       "    .dataframe tbody tr th {\n",
       "        vertical-align: top;\n",
       "    }\n",
       "\n",
       "    .dataframe thead th {\n",
       "        text-align: right;\n",
       "    }\n",
       "</style>\n",
       "<table border=\"1\" class=\"dataframe\">\n",
       "  <thead>\n",
       "    <tr style=\"text-align: right;\">\n",
       "      <th></th>\n",
       "      <th>Status</th>\n",
       "    </tr>\n",
       "  </thead>\n",
       "  <tbody>\n",
       "    <tr>\n",
       "      <th>No Cars Available</th>\n",
       "      <td>1392</td>\n",
       "    </tr>\n",
       "    <tr>\n",
       "      <th>Trip Completed</th>\n",
       "      <td>784</td>\n",
       "    </tr>\n",
       "    <tr>\n",
       "      <th>Cancelled</th>\n",
       "      <td>166</td>\n",
       "    </tr>\n",
       "  </tbody>\n",
       "</table>\n",
       "</div>"
      ],
      "text/plain": [
       "                   Status\n",
       "No Cars Available    1392\n",
       "Trip Completed        784\n",
       "Cancelled             166"
      ]
     },
     "execution_count": 219,
     "metadata": {},
     "output_type": "execute_result"
    }
   ],
   "source": [
    "dataframe_evening_rush = pd.DataFrame(df_evening_rush.Status.value_counts())\n",
    "dataframe_evening_rush"
   ]
  },
  {
   "cell_type": "code",
   "execution_count": 220,
   "metadata": {},
   "outputs": [
    {
     "data": {
      "image/png": "[encoded data removed]",
      "text/plain": [
       "<Figure size 432x288 with 1 Axes>"
      ]
     },
     "metadata": {
      "needs_background": "light"
     },
     "output_type": "display_data"
    }
   ],
   "source": [
    "# Inference: Availibility of cars is the major concern during Evening rush hours\n",
    "\n",
    "ax = sns.barplot(x= 'Status',y = dataframe_evening_rush.index, data = dataframe_evening_rush)\n",
    "ax.set_xlabel(\"Count\")\n",
    "plt.show()"
   ]
  },
  {
   "cell_type": "code",
   "execution_count": 223,
   "metadata": {},
   "outputs": [
    {
     "data": {
      "text/plain": [
       "<matplotlib.axes._subplots.AxesSubplot at 0x24595091208>"
      ]
     },
     "execution_count": 223,
     "metadata": {},
     "output_type": "execute_result"
    },
    {
     "data": {
      "image/png": "[encoded data removed]",
      "text/plain": [
       "<Figure size 432x288 with 1 Axes>"
      ]
     },
     "metadata": {
      "needs_background": "light"
     },
     "output_type": "display_data"
    }
   ],
   "source": [
    "sns.countplot(x= 'Status', data = df_evening_rush, hue = 'Pickup point')"
   ]
  },
  {
   "cell_type": "markdown",
   "metadata": {},
   "source": [
    "#### Inference: Availability of cars is an major concern at airports"
   ]
  },
  {
   "cell_type": "code",
   "execution_count": 224,
   "metadata": {},
   "outputs": [
    {
     "data": {
      "image/png": "[encoded data removed]",
      "text/plain": [
       "<Figure size 496.475x720 with 2 Axes>"
      ]
     },
     "metadata": {
      "needs_background": "light"
     },
     "output_type": "display_data"
    }
   ],
   "source": [
    "sns.catplot(x='request_hour', data = df_evening_rush, hue = 'Status', row ='Pickup point', kind = 'count')\n",
    "plt.show()"
   ]
  },
  {
   "cell_type": "code",
   "execution_count": 132,
   "metadata": {},
   "outputs": [],
   "source": [
    "df_city_cancelled=df_evening_rush.loc[(df_evening_rush[\"Pickup point\"]==\"City\") & (df_evening_rush[\"Status\"]==\"Cancelled\")]"
   ]
  },
  {
   "cell_type": "code",
   "execution_count": 134,
   "metadata": {},
   "outputs": [
    {
     "data": {
      "text/plain": [
       "60"
      ]
     },
     "execution_count": 134,
     "metadata": {},
     "output_type": "execute_result"
    }
   ],
   "source": [
    "df_city_cancelled.shape[0]"
   ]
  },
  {
   "cell_type": "code",
   "execution_count": 226,
   "metadata": {},
   "outputs": [
    {
     "data": {
      "text/plain": [
       "542"
      ]
     },
     "execution_count": 226,
     "metadata": {},
     "output_type": "execute_result"
    }
   ],
   "source": [
    "df_evening_rush.loc[(df_evening_rush[\"Pickup point\"]==\"City\")].shape[0]"
   ]
  },
  {
   "cell_type": "code",
   "execution_count": 143,
   "metadata": {},
   "outputs": [
    {
     "data": {
      "text/plain": [
       "411"
      ]
     },
     "execution_count": 143,
     "metadata": {},
     "output_type": "execute_result"
    }
   ],
   "source": [
    "df_evening_rush.loc[(df_evening_rush[\"Pickup point\"]==\"City\") & (df_evening_rush[\"Status\"]==\"Trip Completed\")].shape[0]"
   ]
  },
  {
   "cell_type": "code",
   "execution_count": 144,
   "metadata": {},
   "outputs": [
    {
     "data": {
      "text/plain": [
       "1800"
      ]
     },
     "execution_count": 144,
     "metadata": {},
     "output_type": "execute_result"
    }
   ],
   "source": [
    "df_evening_rush.loc[(df_evening_rush[\"Pickup point\"]==\"Airport\")].shape[0]"
   ]
  },
  {
   "cell_type": "code",
   "execution_count": 145,
   "metadata": {},
   "outputs": [
    {
     "data": {
      "text/plain": [
       "373"
      ]
     },
     "execution_count": 145,
     "metadata": {},
     "output_type": "execute_result"
    }
   ],
   "source": [
    "df_evening_rush.loc[(df_evening_rush[\"Pickup point\"]==\"Airport\") & (df_evening_rush[\"Status\"]==\"Trip Completed\")].shape[0]"
   ]
  },
  {
   "cell_type": "markdown",
   "metadata": {},
   "source": [
    "# Severity problem at each location by looking at cancellation of cabs in each of the pickup location"
   ]
  },
  {
   "cell_type": "code",
   "execution_count": 128,
   "metadata": {},
   "outputs": [
    {
     "data": {
      "text/plain": [
       "106"
      ]
     },
     "execution_count": 128,
     "metadata": {},
     "output_type": "execute_result"
    }
   ],
   "source": [
    "df_evening_rush.loc[(df_evening_rush[\"Pickup point\"]==\"Airport\") & (df_evening_rush[\"Status\"]==\"Cancelled\")].shape[0]"
   ]
  },
  {
   "cell_type": "code",
   "execution_count": 129,
   "metadata": {},
   "outputs": [
    {
     "data": {
      "text/plain": [
       "60"
      ]
     },
     "execution_count": 129,
     "metadata": {},
     "output_type": "execute_result"
    }
   ],
   "source": [
    "df_evening_rush.loc[(df_evening_rush[\"Pickup point\"]==\"City\") & (df_evening_rush[\"Status\"]==\"Cancelled\")].shape[0]"
   ]
  },
  {
   "cell_type": "markdown",
   "metadata": {},
   "source": [
    "# Severity of problem by location in morning rush"
   ]
  }
 ],
 "metadata": {
  "kernelspec": {
   "display_name": "Python 3",
   "language": "python",
   "name": "python3"
  },
  "language_info": {
   "codemirror_mode": {
    "name": "ipython",
    "version": 3
   },
   "file_extension": ".py",
   "mimetype": "text/x-python",
   "name": "python",
   "nbconvert_exporter": "python",
   "pygments_lexer": "ipython3",
   "version": "3.7.7"
  }
 },
 "nbformat": 4,
 "nbformat_minor": 4
}
